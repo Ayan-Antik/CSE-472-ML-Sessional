{
 "cells": [
  {
   "attachments": {},
   "cell_type": "markdown",
   "metadata": {},
   "source": [
    "### We create a Convolutional Neural Network(CNN) for bangla digit recognition \n"
   ]
  },
  {
   "cell_type": "code",
   "execution_count": 2,
   "metadata": {},
   "outputs": [],
   "source": [
    "import numpy as np\n",
    "import matplotlib.pyplot as plt\n",
    "import os\n",
    "import cv2"
   ]
  },
  {
   "attachments": {},
   "cell_type": "markdown",
   "metadata": {},
   "source": [
    "# Define all the classes"
   ]
  },
  {
   "attachments": {},
   "cell_type": "markdown",
   "metadata": {},
   "source": [
    "Base Class for all layers: `Model`"
   ]
  },
  {
   "cell_type": "code",
   "execution_count": 3,
   "metadata": {},
   "outputs": [],
   "source": [
    "class Model():\n",
    "    def forward(self, x):\n",
    "        pass\n",
    "    def backward(self, x, y):\n",
    "        pass"
   ]
  },
  {
   "attachments": {},
   "cell_type": "markdown",
   "metadata": {
    "tags": []
   },
   "source": [
    "Create the `ConvolutionLayer` class\n",
    "\n",
    "There will be four (hyper)parameters:\n",
    "1. Number of output channels\n",
    "2. Filter dimension\n",
    "3. Stride\n",
    "4. Padding\n",
    "\n",
    "**Important resources**\n",
    "\n",
    "`stride-tricks`\n",
    "* [np.lib.stride_tricks.as_strided](https://jessicastringham.net/2017/12/31/stride-tricks/)\n",
    " \n",
    "`np.einsum`\n",
    "* [jessstringham/einsum.md](https://gist.github.com/jessstringham/5483028423c350d7b771d5c0482be246)\n",
    "* [Basic guide to einsum](https://ajcr.net/Basic-guide-to-einsum/)\n",
    "* [jessicastringam np.einsum](https://jessicastringham.net/2018/01/01/einsum/)\n",
    "\n",
    "\n",
    "Backprop with strides:\n",
    "* [Medium](https://medium.com/@mayank.utexas/backpropagation-for-convolution-with-strides-8137e4fc2710)\n"
   ]
  },
  {
   "cell_type": "code",
   "execution_count": 4,
   "metadata": {},
   "outputs": [],
   "source": [
    "class ConvolutionLayer(Model):\n",
    "    def __init__(self, num_filters, filter_size, stride, padding):\n",
    "        self.num_filters = num_filters\n",
    "        self.filter_size = filter_size\n",
    "        self.stride = stride\n",
    "        self.padding = padding\n",
    "        self.weights = None\n",
    "        self.biases = None\n",
    "        self.input = None\n",
    "        self.cache = None\n",
    "\n",
    "    def __str__(self):\n",
    "        return f'Convolution Layer: {self.num_filters} filters of size {self.filter_size}x{self.filter_size} with stride {self.stride} and padding {self.padding}'\n",
    "    \n",
    "    def init_weights(self, num_channels):\n",
    "        self.weights = np.random.randn(self.num_filters, num_channels, self.filter_size, self.filter_size) * \\\n",
    "                        np.sqrt(2 / (self.filter_size * self.filter_size * num_channels))\n",
    "        \n",
    "        self.biases = np.zeros(self.num_filters)\n",
    "\n",
    "    def forward(self, input):\n",
    "        # input has shape (batch_size, num_channels, input_height, input_width)\n",
    "        n, c, h, w = input.shape\n",
    "        output_height = (h + 2 * self.padding - self.filter_size ) // self.stride + 1\n",
    "        output_width = (w + 2 * self.padding - self.filter_size ) // self.stride + 1\n",
    "        output = np.zeros((n, self.num_filters, output_height, output_width))\n",
    "        \n",
    "        if self.weights is None:\n",
    "            self.init_weights(c)\n",
    "\n",
    "        # pad the input\n",
    "        input_padded = np.pad(input, ((0,0), (0,0), (self.padding, self.padding), (self.padding, self.padding)), 'constant')\n",
    "                       \n",
    "        batch_stride, channel_stride, height_stride, width_stride = input_padded.strides\n",
    "        # print(f'batch_stride: {batch_stride}, channel_stride: {channel_stride}, height_stride: {height_stride}, width_stride: {width_stride}')\n",
    "        strided_windows = np.lib.stride_tricks.as_strided(\n",
    "            input_padded,\n",
    "            shape = (n, c, output_height, output_width, self.filter_size, self.filter_size),\n",
    "            strides = (batch_stride, channel_stride, height_stride * self.stride, width_stride * self.stride, height_stride, width_stride)\n",
    "        )\n",
    "\n",
    "        # print(f'strided_windows.shape: {strided_windows.shape}')\n",
    "        # print(f'strided_windows:{strided_windows}')\n",
    "        # print(f'weights:------------\\n{self.weights}')\n",
    "        # v = np.zeros((n, self.num_filters, output_height, output_width))\n",
    "        # # implement forward with loop\n",
    "        # for i in range(n):\n",
    "        #     for j in range(self.num_filters):\n",
    "        #         for k in range(output_height):\n",
    "        #             for l in range(output_width):\n",
    "        #                 v[i, j, k, l] = np.sum(input_padded[i, :, k*self.stride:k*self.stride+self.filter_size, l*self.stride:l*self.stride+self.filter_size] * self.weights[j, :, :, :]) + self.biases[j]\n",
    "\n",
    "\n",
    "        output = np.einsum('bihwkl,oikl->bohw', strided_windows, self.weights) + self.biases[None, :, None, None]\n",
    "        # print(f'output: {output}')\n",
    "        \n",
    "        # print(np.allclose(v, output))\n",
    "        # print(f'output.shape: {output.shape}')\n",
    "        self.cache = input, strided_windows\n",
    "        \n",
    "        return output\n",
    "\n",
    "    def backward(self, dout, learning_rate):\n",
    "    \n",
    "        input, strided_windows = self.cache\n",
    "        n, c, h, w = input.shape\n",
    "        n, f, h_out, w_out = dout.shape\n",
    "\n",
    "        padding = self.filter_size - 1 if self.padding == 0 else self.filter_size - 1 - self.padding\n",
    "        dilate = self.stride - 1\n",
    "        dout_dilated_padded = dout.copy()\n",
    "        # print(f'dilate: {dilate}')\n",
    "        # print(f'dout_dilated_padded:\\n {dout_dilated_padded}')\n",
    "        if dilate > 0:\n",
    "            dout_dilated_padded = np.insert(dout_dilated_padded, range(1, dout.shape[2]), 0, axis=2)\n",
    "            dout_dilated_padded = np.insert(dout_dilated_padded, range(1, dout.shape[3]), 0, axis=3)\n",
    "             \n",
    "        # print(f'dout_dilated_padded:\\n {dout_dilated_padded}')\n",
    "        \n",
    "        if padding > 0:\n",
    "            dout_dilated_padded = np.pad(dout_dilated_padded, ((0,0), (0,0), (padding, padding), (padding, padding)), 'constant')\n",
    "\n",
    "        out_h, out_w = input.shape[2:] # output height and width\n",
    "        out_b, out_c= dout.shape[:2] # output batch size and channel size\n",
    "        batch_stride, channel_stride, height_stride, width_stride = dout_dilated_padded.strides\n",
    "\n",
    "        dout_windows = np.lib.stride_tricks.as_strided(dout_dilated_padded, \n",
    "            shape = (out_b, out_c, out_h, out_w, self.filter_size, self.filter_size),\n",
    "            strides = (batch_stride, channel_stride, height_stride * 1, width_stride * 1, height_stride, width_stride)\n",
    "        )\n",
    "        # print(f'dout_windows.shape: {dout_windows.shape}')\n",
    "        # print(f'dout_windows: {dout_windows}')\n",
    "        \n",
    "        rotate_weights = np.rot90(self.weights, 2, (2, 3))\n",
    "\n",
    "        dx = np.einsum('bohwkl, oikl -> bihw', dout_windows, rotate_weights)\n",
    "        dw = np.einsum('bihwkl, bohw -> oikl', strided_windows, dout)\n",
    "        db = np.sum(dout, axis=(0, 2, 3))\n",
    "\n",
    "        # print(dout.shape)\n",
    "        \n",
    "\n",
    "        self.weights -= learning_rate * dw\n",
    "        self.biases -= learning_rate * db\n",
    "        \n",
    "\n",
    "        return dx\n",
    "    \n",
    "    \n",
    "        \n"
   ]
  },
  {
   "attachments": {},
   "cell_type": "markdown",
   "metadata": {
    "tags": []
   },
   "source": [
    "Test the class"
   ]
  },
  {
   "cell_type": "code",
   "execution_count": 5,
   "metadata": {},
   "outputs": [
    {
     "name": "stdout",
     "output_type": "stream",
     "text": [
      "Convolution Layer: 1 filters of size 3x3 with stride 1 and padding 0\n",
      "(1, 1, 3, 3)\n",
      "output--------\n",
      "[[[[-7.65724892 -7.34438154 -7.03151415]\n",
      "   [-6.09291201 -5.78004462 -5.46717724]\n",
      "   [-4.52857509 -4.21570771 -3.90284033]]]]\n",
      "\n",
      "(1, 1, 5, 5)\n",
      "back--------\n",
      "[[[[ 0.17911449 -0.11177131 -4.86488839 -4.82339785 -4.36862113]\n",
      "   [-0.28728301 -1.32363021 -5.4371973  -4.91522076 -3.74883998]\n",
      "   [ 0.83239    -1.19909087 -0.048943   -0.68320758  1.16648195]\n",
      "   [ 0.59598634 -0.85227393  2.32562937  1.7071634   2.80974142]\n",
      "   [ 0.63189704 -0.10792319  2.38577754  1.71731237  2.14530769]]]]\n",
      "\n"
     ]
    }
   ],
   "source": [
    "count = 1*1*5*5\n",
    "input_arr = np.arange(-count/2, count/2).reshape(1, 1, 5, 5)\n",
    "# print(f'input: {input_arr}\\n')\n",
    "conv_layer = ConvolutionLayer(num_filters=1, filter_size= 3, stride= 1, padding= 0)\n",
    "print(conv_layer)\n",
    "output = conv_layer.forward(input_arr)\n",
    "print(output.shape)\n",
    "print(f'output--------\\n{output}\\n')\n",
    "back = conv_layer.backward(output, 0.01)\n",
    "print(back.shape)\n",
    "print(f'back--------\\n{back}\\n')\n",
    "# print(output[0, 0, :, :])"
   ]
  },
  {
   "attachments": {},
   "cell_type": "markdown",
   "metadata": {},
   "source": [
    "Create the **ReLU Activation** as `ActivationLayer`"
   ]
  },
  {
   "cell_type": "code",
   "execution_count": 6,
   "metadata": {},
   "outputs": [],
   "source": [
    "class ActivationLayer(Model):\n",
    "    def __init__(self):\n",
    "        self.input = None\n",
    "\n",
    "    def __str__(self):\n",
    "        return 'ReLU Activation Layer'\n",
    "\n",
    "    def forward(self, input):\n",
    "        self.input = input\n",
    "        return np.maximum(0, input)\n",
    "\n",
    "    def backward(self, dL_dout, learning_rate):\n",
    "        return dL_dout * (self.input > 0)\n"
   ]
  },
  {
   "attachments": {},
   "cell_type": "markdown",
   "metadata": {},
   "source": [
    "Test Activation"
   ]
  },
  {
   "cell_type": "code",
   "execution_count": 7,
   "metadata": {},
   "outputs": [
    {
     "name": "stdout",
     "output_type": "stream",
     "text": [
      "[[[[-7.65724892 -7.34438154 -7.03151415]\n",
      "   [-6.09291201 -5.78004462 -5.46717724]\n",
      "   [-4.52857509 -4.21570771 -3.90284033]]]]\n",
      "[[[[0. 0. 0.]\n",
      "   [0. 0. 0.]\n",
      "   [0. 0. 0.]]]]\n",
      "[[[[0. 0. 0.]\n",
      "   [0. 0. 0.]\n",
      "   [0. 0. 0.]]]]\n"
     ]
    }
   ],
   "source": [
    "activation = ActivationLayer()\n",
    "print(output)\n",
    "a = activation.forward(output)\n",
    "print(a)\n",
    "b = activation.backward(a, 0.01)\n",
    "print(b)"
   ]
  },
  {
   "attachments": {},
   "cell_type": "markdown",
   "metadata": {},
   "source": [
    ">Max-pooling: There will be two parameters:\n",
    "> 1. Filter dimension\n",
    "> 2. Stride\n",
    "\n",
    "Create the Max-Pooling layer as `MaxPoolingLayer`"
   ]
  },
  {
   "cell_type": "code",
   "execution_count": 8,
   "metadata": {},
   "outputs": [],
   "source": [
    "class PoolingLayer(Model):\n",
    "    def __init__(self, pool_size, stride):\n",
    "        self.pool_size = pool_size\n",
    "        self.stride = stride\n",
    "        self.input = None\n",
    "\n",
    "    def __str__(self):\n",
    "        return f'Pooling Layer (pool_size={self.pool_size}, stride={self.stride})'\n",
    "\n",
    "\n",
    "    def forward(self, input):\n",
    "        self.input = input\n",
    "        n, c, h, w = input.shape\n",
    "        output_height = (h - self.pool_size) // self.stride + 1\n",
    "        output_width = (w - self.pool_size) // self.stride + 1\n",
    "       \n",
    "        batch_stride, channel_stride, height_stride, width_stride = input.strides\n",
    "        input_windows = np.lib.stride_tricks.as_strided(input,\n",
    "            shape = (n, c, output_height, output_width, self.pool_size, self.pool_size),\n",
    "            strides = (batch_stride, channel_stride, height_stride * self.stride, width_stride * self.stride, height_stride, width_stride)\n",
    "        )\n",
    "        output = np.max(input_windows, axis=(4, 5))\n",
    "        \n",
    "        if self.stride == self.pool_size:\n",
    "            mask = output.repeat(self.stride, axis=-2).repeat(self.stride, axis=-1)\n",
    "            # print(f'shape of mask after repeat: {mask.shape}')\n",
    "            # print(f'mask: {mask}')\n",
    "            # pad for odd shape\n",
    "            h_pad = h - mask.shape[-2]\n",
    "            w_pad = w - mask.shape[-1]\n",
    "            mask = np.pad(mask, ((0,0), (0,0), (0, h_pad), (0, w_pad)), 'constant')\n",
    "            # print(f'shape of mask after pad: {mask.shape}')\n",
    "            # print(f'mask: {mask}')\n",
    "            mask = np.equal(input, mask)\n",
    "            # print(f'shape of mask after equal: {mask.shape}')\n",
    "            # print(f'mask: {mask}')\n",
    "\n",
    "            self.cache = mask\n",
    "        return output\n",
    "\n",
    "    def backward(self, dL_dout, learning_rate):\n",
    "        n, c, h, w = self.input.shape\n",
    "        h_out, w_out = dL_dout.shape[-2:]\n",
    "        \n",
    "        stride = self.stride\n",
    "        if stride == self.pool_size:\n",
    "            dL_dout = dL_dout.repeat(stride, axis=-2).repeat(stride, axis=-1)\n",
    "            mask = self.cache\n",
    "            # pad for odd shape\n",
    "            h_pad = h - dL_dout.shape[-2]\n",
    "            w_pad = w - dL_dout.shape[-1]\n",
    "            dL_dout = np.pad(dL_dout, ((0,0), (0,0), (0, h_pad), (0, w_pad)), 'constant')\n",
    "            # print(f'shape of dL_dout after pad: {dL_dout.shape}')\n",
    "            return dL_dout * mask\n",
    "            \n",
    "        else:\n",
    "            dx = np.zeros(self.input.shape)\n",
    "\n",
    "            for i in range(n):\n",
    "                for j in range(c):\n",
    "                    for k in range(h_out):\n",
    "                        for l in range(w_out):\n",
    "                            \n",
    "                            i_t, j_t = np.where(np.max(self.input[i, j, k * self.stride : k * self.stride + self.pool_size, l * self.stride : l * self.stride + self.pool_size]) == self.input[i, j, k * self.stride : k * self.stride + self.pool_size, l * self.stride : l * self.stride + self.pool_size])\n",
    "                            i_t, j_t = i_t[0], j_t[0]\n",
    "                            \n",
    "                            dx[i, j, k * self.stride : k * self.stride + self.pool_size, l * self.stride : l * self.stride + self.pool_size][i_t, j_t] = dL_dout[i, j, k, l]\n",
    "           \n",
    "        \n",
    "        return dx"
   ]
  },
  {
   "cell_type": "code",
   "execution_count": 9,
   "metadata": {},
   "outputs": [
    {
     "name": "stdout",
     "output_type": "stream",
     "text": [
      "CPU times: total: 0 ns\n",
      "Wall time: 0 ns\n",
      "a.shape: (1, 1, 3, 3)\n",
      "\n",
      "After ReLU Activation\n",
      "[[[[0. 0. 0.]\n",
      "   [0. 0. 0.]\n",
      "   [0. 0. 0.]]]]\n",
      "After Max Pool\n",
      "[[[[0.]]]]\n",
      "After Max Pool Backprop\n",
      "[[[[0. 0. 0.]\n",
      "   [0. 0. 0.]\n",
      "   [0. 0. 0.]]]]\n",
      "b.shape: (1, 1, 3, 3)\n",
      "\n"
     ]
    }
   ],
   "source": [
    "%time\n",
    "pool = PoolingLayer(2, 2)\n",
    "print(f'a.shape: {a.shape}\\n')\n",
    "print(f'After ReLU Activation\\n{a}')\n",
    "p = pool.forward(a)\n",
    "print(f'After Max Pool\\n{p}')\n",
    "b = pool.backward(p, 0.01)\n",
    "print(f'After Max Pool Backprop\\n{b}')\n",
    "print(f'b.shape: {b.shape}\\n')"
   ]
  },
  {
   "attachments": {},
   "cell_type": "markdown",
   "metadata": {},
   "source": [
    "> Flattening layer: it will convert a (series of) convolutional filter maps to a column vector.\n",
    "\n",
    "Create the Flattening Layer as `FlatteningLayer`"
   ]
  },
  {
   "cell_type": "code",
   "execution_count": 10,
   "metadata": {},
   "outputs": [],
   "source": [
    "class FlatteningLayer(Model):\n",
    "    def __init__(self):\n",
    "        self.input = None\n",
    "\n",
    "    def __str__(self):\n",
    "        return \"Flattening Layer\"\n",
    "\n",
    "    def forward(self, input):\n",
    "        self.input = input\n",
    "        batch_size = input.shape[0]\n",
    "        return np.reshape(input, (batch_size, -1))\n",
    "\n",
    "    def backward(self, dL_dout, learning_rate):\n",
    "        return np.reshape(dL_dout, self.input.shape)"
   ]
  },
  {
   "cell_type": "code",
   "execution_count": 11,
   "metadata": {},
   "outputs": [
    {
     "name": "stdout",
     "output_type": "stream",
     "text": [
      "[[0.]]\n"
     ]
    },
    {
     "data": {
      "text/plain": [
       "(1, 1)"
      ]
     },
     "execution_count": 11,
     "metadata": {},
     "output_type": "execute_result"
    }
   ],
   "source": [
    "f = FlatteningLayer()\n",
    "flat = f.forward(p)\n",
    "print(flat)\n",
    "flat.shape"
   ]
  },
  {
   "attachments": {},
   "cell_type": "markdown",
   "metadata": {},
   "source": [
    "> Fully-connected layer: a dense layer. There will be one parameter: output dimension\n",
    "\n",
    "Create fully-connected Layer as `FullyConnectedLayer`"
   ]
  },
  {
   "cell_type": "code",
   "execution_count": 12,
   "metadata": {},
   "outputs": [],
   "source": [
    "class FullyConnectedLayer(Model):\n",
    "    def __init__(self, output_dim):\n",
    "        self.weights = None\n",
    "        self.biases = None\n",
    "        self.input = None\n",
    "        self.output_dim = int(output_dim)\n",
    "        \n",
    "    \n",
    "    def __str__(self):\n",
    "        return f'Fully Connected Layer (output_dim={self.output_dim})'\n",
    "\n",
    "    def forward(self, input):\n",
    "        self.input = input\n",
    "        batch_size = input.shape[0]\n",
    "        if self.weights is None:\n",
    "            self.weights = np.random.randn(input.shape[1], self.output_dim) * np.sqrt(2 / input.shape[1])\n",
    "            self.biases = np.zeros(self.output_dim)\n",
    "        return np.dot(input, self.weights) + self.biases\n",
    "\n",
    "    def backward(self, dL_dout, learning_rate):\n",
    "        dL_dW = np.dot(self.input.T, dL_dout)\n",
    "        dL_db = np.sum(dL_dout, axis=0)\n",
    "        dL_din = np.dot(dL_dout, self.weights.T)\n",
    "\n",
    "        self.weights -= learning_rate * dL_dW\n",
    "        self.biases -= learning_rate * dL_db\n",
    "\n",
    "        return dL_din\n",
    "    "
   ]
  },
  {
   "cell_type": "code",
   "execution_count": 13,
   "metadata": {},
   "outputs": [
    {
     "name": "stdout",
     "output_type": "stream",
     "text": [
      "[[0. 0. 0. 0. 0. 0. 0. 0. 0. 0.]]\n",
      "[[0.]]\n"
     ]
    }
   ],
   "source": [
    "# Write code to test fully connected layer implementation\n",
    "fc = FullyConnectedLayer(10)\n",
    "fc_out = fc.forward(flat)\n",
    "print(fc_out)\n",
    "fc_back = fc.backward(fc_out, 0.01)\n",
    "print(fc_back)\n"
   ]
  },
  {
   "cell_type": "code",
   "execution_count": 14,
   "metadata": {},
   "outputs": [
    {
     "name": "stdout",
     "output_type": "stream",
     "text": [
      "[[0. 0.]]\n"
     ]
    }
   ],
   "source": [
    "fc = FullyConnectedLayer(2)\n",
    "fc_out = fc.forward(flat)\n",
    "print(fc_out)"
   ]
  },
  {
   "attachments": {},
   "cell_type": "markdown",
   "metadata": {},
   "source": [
    "> Softmax: it will convert final layer projections to normalized probabilities.\n",
    "\n",
    "Create the `SoftMaxLayer`"
   ]
  },
  {
   "cell_type": "code",
   "execution_count": 15,
   "metadata": {},
   "outputs": [],
   "source": [
    "class SoftMaxLayer(Model):\n",
    "    def __init__(self):\n",
    "        self.input = None\n",
    "\n",
    "    def __str__(self):\n",
    "        return 'Softmax Layer'\n",
    "\n",
    "    def forward(self, input):\n",
    "        self.input = input\n",
    "        # print(f'inputs: {input}\\nmax:{np.max(input, axis=1, keepdims=True)}')\n",
    "        # print(f'exp:{np.exp(input)}\\nsubtracted:{np.exp(input - np.max(input, axis=1, keepdims=True))}')\n",
    "        exps = np.exp(input - np.max(input, axis=1, keepdims=True))\n",
    "        # print(f'exps = {exps}')\n",
    "        return exps / np.sum(exps, axis=1, keepdims=True)\n",
    "\n",
    "    def backward(self, dL_dout, learning_rate):\n",
    "        return dL_dout"
   ]
  },
  {
   "cell_type": "code",
   "execution_count": 16,
   "metadata": {},
   "outputs": [
    {
     "name": "stdout",
     "output_type": "stream",
     "text": [
      "[[0.5 0.5]]\n"
     ]
    }
   ],
   "source": [
    "smax = SoftMaxLayer()\n",
    "smax_out = smax.forward(fc_out)\n",
    "print(smax_out)"
   ]
  },
  {
   "attachments": {},
   "cell_type": "markdown",
   "metadata": {},
   "source": [
    "# Import and vectorize Data"
   ]
  },
  {
   "cell_type": "code",
   "execution_count": 25,
   "metadata": {},
   "outputs": [],
   "source": [
    "image_count = 200000\n",
    "\n",
    "def load_images(folder_path, count):\n",
    "    images = []\n",
    "    i = 0\n",
    "    for filename in sorted(os.listdir(folder_path)):\n",
    "        # load the image using OpenCV\n",
    "        try:\n",
    "            img = cv2.imread(os.path.join(folder_path, filename))\n",
    "            # compress image pixels\n",
    "            img = cv2.resize(img, (28, 28))\n",
    "            # convert the image from BGR to RGB format\n",
    "            img = cv2.cvtColor(img, cv2.COLOR_BGR2RGB)\n",
    "            # convert the image to a NumPy array of shape (channel, height, width)\n",
    "            img = (255 - np.transpose(img, (2, 0, 1))) / 255\n",
    "            # img = cv2.dilate(img, np.ones((2, 2), np.uint8))\n",
    "            \n",
    "            images.append(img)\n",
    "            i +=1\n",
    "            if i == count:\n",
    "                break\n",
    "        except:\n",
    "            pass\n",
    "    return images\n"
   ]
  },
  {
   "cell_type": "markdown",
   "metadata": {},
   "source": [
    "### View some samples"
   ]
  },
  {
   "cell_type": "code",
   "execution_count": 26,
   "metadata": {},
   "outputs": [
    {
     "name": "stdout",
     "output_type": "stream",
     "text": [
      "44359\n"
     ]
    }
   ],
   "source": [
    "# images = load_images('data/training-b/', image_count)\n",
    "images = load_images('data/training-a/', image_count)\n",
    "images += load_images('data/training-b/', image_count)\n",
    "images += load_images('data/training-c/', image_count)\n",
    "print(len(images))\n",
    "# show an image\n",
    "# print(images[0][ 0, 24:48, 24:48])\n"
   ]
  },
  {
   "cell_type": "code",
   "execution_count": 27,
   "metadata": {},
   "outputs": [
    {
     "name": "stdout",
     "output_type": "stream",
     "text": [
      "(3, 28, 28)\n"
     ]
    },
    {
     "data": {
      "image/png": "[encoded data removed]",
      "text/plain": [
       "<Figure size 640x480 with 1 Axes>"
      ]
     },
     "metadata": {},
     "output_type": "display_data"
    }
   ],
   "source": [
    "# Show an Image\n",
    "img_idx = 1\n",
    "plt.imshow(images[img_idx].transpose(1, 2, 0))\n",
    "print(images[img_idx].shape)"
   ]
  },
  {
   "attachments": {},
   "cell_type": "markdown",
   "metadata": {},
   "source": [
    "Load `y`"
   ]
  },
  {
   "cell_type": "code",
   "execution_count": 28,
   "metadata": {},
   "outputs": [
    {
     "data": {
      "text/plain": [
       "(44359,)"
      ]
     },
     "execution_count": 28,
     "metadata": {},
     "output_type": "execute_result"
    }
   ],
   "source": [
    "# load y from csv file\n",
    "# y = np.loadtxt('data/training-b.csv', delimiter=',', skiprows=1, usecols=3, max_rows= image_count, dtype=int)\n",
    "y = np.loadtxt('data/training-a.csv', delimiter=',', skiprows=1, usecols=3, max_rows= image_count, dtype=int)\n",
    "y = np.concatenate([y, np.loadtxt('data/training-b.csv', delimiter=',', skiprows=1, usecols=3, max_rows= image_count, dtype=int)])\n",
    "y = np.concatenate([y, np.loadtxt('data/training-c.csv', delimiter=',', skiprows=1, usecols=3, max_rows=image_count, dtype=int)])\n",
    "# y = np.concatenate([y,y2])\n",
    "y.shape"
   ]
  },
  {
   "attachments": {},
   "cell_type": "markdown",
   "metadata": {},
   "source": [
    "## Build Model"
   ]
  },
  {
   "cell_type": "code",
   "execution_count": 29,
   "metadata": {},
   "outputs": [],
   "source": [
    "# get model data from model.txt and build model\n",
    "\n",
    "class ModelBuilder:\n",
    "    def __init__(self):\n",
    "        self.model = []\n",
    "\n",
    "    def __str__(self):\n",
    "        # call __str__ of each layer in model\n",
    "        info = \"Model: \\n\"\n",
    "        for layer in self.model:\n",
    "            info += layer.str() + \"\\n\"\n",
    "        return info\n",
    "\n",
    "\n",
    "    def build(self):\n",
    "        model = self.model\n",
    "\n",
    "        model.append(ConvolutionLayer(6, 5, 1, 0))\n",
    "        model.append(ActivationLayer())\n",
    "        model.append(PoolingLayer(2, 2))\n",
    "        model.append(ConvolutionLayer(16, 5, 1, 0))\n",
    "        model.append(ActivationLayer())\n",
    "        model.append(PoolingLayer(2, 2))\n",
    "        model.append(FlatteningLayer())\n",
    "        model.append(FullyConnectedLayer(120))\n",
    "        model.append(ActivationLayer())\n",
    "        model.append(FullyConnectedLayer(84))\n",
    "        model.append(ActivationLayer())\n",
    "        model.append(FullyConnectedLayer(10))\n",
    "        model.append(SoftMaxLayer())\n",
    "\n",
    "\n",
    "        return self.model\n",
    "\n"
   ]
  },
  {
   "attachments": {},
   "cell_type": "markdown",
   "metadata": {},
   "source": [
    "# Train Model"
   ]
  },
  {
   "cell_type": "code",
   "execution_count": 30,
   "metadata": {},
   "outputs": [],
   "source": [
    "from tqdm import tqdm\n",
    "from sklearn.metrics import accuracy_score, log_loss, f1_score\n",
    "# train model having X_train, y_train, X_val, y_val, learning_rate, epochs, batch_size, y is one hot encoded\n",
    "def train(model, X_train, y_train, X_val, y_val, learning_rate, epochs, batch_size):\n",
    "# initialize loss and accuracy lists\n",
    "    train_loss = []\n",
    "    train_acc = []\n",
    "    val_loss = []\n",
    "    val_acc = []\n",
    "    val_f1 = []\n",
    "\n",
    "    for epoch in range(epochs):\n",
    "        print(f'Epoch {epoch + 1}/{epochs}')\n",
    "        # shuffle training data\n",
    "        idx = np.random.permutation(len(X_train))\n",
    "        X_train = X_train[idx]\n",
    "        y_train = y_train[idx]\n",
    "\n",
    "        # get number of batches\n",
    "        num_batches = len(X_train) // batch_size\n",
    "        loss = 0\n",
    "        acc = 0\n",
    "        for i in tqdm(range(num_batches)):\n",
    "            X_batch = X_train[i * batch_size:(i + 1) * batch_size]\n",
    "            y_batch = y_train[i * batch_size:(i + 1) * batch_size]\n",
    "            # print(X_batch.shape, y_batch.shape)\n",
    "            \n",
    "            # forward pass\n",
    "            out = X_batch\n",
    "            for layer in model:\n",
    "                out = layer.forward(out)\n",
    "            # print(f'out.shape: {out.shape}')\n",
    "            # print(f'out: {out}')\n",
    "            \n",
    "            loss += log_loss(y_batch, out)\n",
    "\n",
    "            # calculate accuracy\n",
    "            acc += accuracy_score(np.argmax(y_batch, axis=1), np.argmax(out, axis=1))\n",
    "\n",
    "            # backward pass\n",
    "            dL_dout = np.copy(out)\n",
    "            dL_dout -= y_batch\n",
    "            dL_dout /= batch_size\n",
    "            for layer in reversed(model):\n",
    "                dL_dout = layer.backward(dL_dout, learning_rate)\n",
    "            \n",
    "        train_loss.append(loss/num_batches)\n",
    "        train_acc.append(acc/num_batches)\n",
    "        # validation\n",
    "        \n",
    "        val_out = X_val\n",
    "        for layer in model:\n",
    "            val_out = layer.forward(val_out)\n",
    "        val_loss.append(log_loss(y_val, val_out))\n",
    "        val_acc.append(accuracy_score(np.argmax(y_val, axis=1), np.argmax(val_out, axis=1)))\n",
    "        curr_f1 = f1_score(np.argmax(y_val, axis=1), np.argmax(val_out, axis=1), average='macro')\n",
    "        val_f1.append(curr_f1)\n",
    "        print(f'learning_rate: {learning_rate}')\n",
    "\n",
    "        print(f'Train Loss: {train_loss[-1]:.4f} | Train Acc: {train_acc[-1]:.4f}')\n",
    "        print(f'Val Loss: {val_loss[-1]:.4f} | Val Acc: {val_acc[-1]:.4f}')\n",
    "        print(f'Val F1: {val_f1[-1]:.4f}')\n",
    "\n",
    "        \n",
    "\n",
    "    return train_loss, train_acc, val_loss, val_acc\n"
   ]
  },
  {
   "attachments": {},
   "cell_type": "markdown",
   "metadata": {},
   "source": [
    "Create train-test sets"
   ]
  },
  {
   "cell_type": "code",
   "execution_count": 31,
   "metadata": {},
   "outputs": [
    {
     "name": "stdout",
     "output_type": "stream",
     "text": [
      "X_train shape: (37705, 3, 28, 28)\n",
      "y_train shape: (37705, 10)\n",
      "X_val shape: (6654, 3, 28, 28)\n",
      "y_val shape: (6654, 10)\n"
     ]
    }
   ],
   "source": [
    "# create train, validation data\n",
    "from sklearn.model_selection import train_test_split\n",
    "X_train, X_val, y_train, y_val = train_test_split(images, y, test_size=0.15, random_state=42)\n",
    "X_train = np.array(X_train)\n",
    "X_val = np.array(X_val)\n",
    "y_train = np.eye(10)[y_train].astype(int)\n",
    "y_val = np.eye(10)[y_val].astype(int)\n",
    "\n",
    "# print shapes of train, validation data with messages\n",
    "print(f'X_train shape: {X_train.shape}')\n",
    "print(f'y_train shape: {y_train.shape}')\n",
    "print(f'X_val shape: {X_val.shape}')  \n",
    "print(f'y_val shape: {y_val.shape}')"
   ]
  },
  {
   "attachments": {},
   "cell_type": "markdown",
   "metadata": {},
   "source": [
    "Train the model"
   ]
  },
  {
   "cell_type": "code",
   "execution_count": 24,
   "metadata": {},
   "outputs": [
    {
     "name": "stdout",
     "output_type": "stream",
     "text": [
      "[<__main__.ConvolutionLayer object at 0x000002BA409B1BA0>, <__main__.ActivationLayer object at 0x000002BA409B1CC0>, <__main__.PoolingLayer object at 0x000002BA409B1DB0>, <__main__.ConvolutionLayer object at 0x000002BA409B29E0>, <__main__.ActivationLayer object at 0x000002BA409B2A10>, <__main__.PoolingLayer object at 0x000002BA409B28C0>, <__main__.FlatteningLayer object at 0x000002BA409B1000>, <__main__.FullyConnectedLayer object at 0x000002BA409B28F0>, <__main__.ActivationLayer object at 0x000002BA409B1090>, <__main__.FullyConnectedLayer object at 0x000002BA409B1A20>, <__main__.ActivationLayer object at 0x000002BA409B2950>, <__main__.FullyConnectedLayer object at 0x000002BA409B0F70>, <__main__.SoftMaxLayer object at 0x000002BA409B0EB0>]\n"
     ]
    }
   ],
   "source": [
    "model = ModelBuilder().build()\n",
    "print(model)"
   ]
  },
  {
   "cell_type": "code",
   "execution_count": 186,
   "metadata": {},
   "outputs": [
    {
     "name": "stdout",
     "output_type": "stream",
     "text": [
      "Epoch 1/10\n"
     ]
    },
    {
     "name": "stderr",
     "output_type": "stream",
     "text": [
      "100%|██████████| 62/62 [00:13<00:00,  4.49it/s]\n"
     ]
    },
    {
     "name": "stdout",
     "output_type": "stream",
     "text": [
      "learning_rate: 0.01\n",
      "Train Loss: 2.3101 | Train Acc: 0.1159\n",
      "Val Loss: 2.3057 | Val Acc: 0.1102\n",
      "Val F1: 0.0838\n",
      "Epoch 2/10\n"
     ]
    },
    {
     "name": "stderr",
     "output_type": "stream",
     "text": [
      "100%|██████████| 62/62 [00:16<00:00,  3.82it/s]\n"
     ]
    },
    {
     "name": "stdout",
     "output_type": "stream",
     "text": [
      "learning_rate: 0.01\n",
      "Train Loss: 2.2797 | Train Acc: 0.1371\n",
      "Val Loss: 2.2814 | Val Acc: 0.1497\n",
      "Val F1: 0.1363\n",
      "Epoch 3/10\n"
     ]
    },
    {
     "name": "stderr",
     "output_type": "stream",
     "text": [
      "100%|██████████| 62/62 [00:17<00:00,  3.65it/s]\n"
     ]
    },
    {
     "name": "stdout",
     "output_type": "stream",
     "text": [
      "learning_rate: 0.01\n",
      "Train Loss: 2.2590 | Train Acc: 0.1709\n",
      "Val Loss: 2.2637 | Val Acc: 0.1723\n",
      "Val F1: 0.1536\n",
      "Epoch 4/10\n"
     ]
    },
    {
     "name": "stderr",
     "output_type": "stream",
     "text": [
      "100%|██████████| 62/62 [00:19<00:00,  3.24it/s]\n"
     ]
    },
    {
     "name": "stdout",
     "output_type": "stream",
     "text": [
      "learning_rate: 0.01\n",
      "Train Loss: 2.2366 | Train Acc: 0.2137\n",
      "Val Loss: 2.2387 | Val Acc: 0.2119\n",
      "Val F1: 0.2005\n",
      "Epoch 5/10\n"
     ]
    },
    {
     "name": "stderr",
     "output_type": "stream",
     "text": [
      "100%|██████████| 62/62 [00:21<00:00,  2.91it/s]\n"
     ]
    },
    {
     "name": "stdout",
     "output_type": "stream",
     "text": [
      "learning_rate: 0.01\n",
      "Train Loss: 2.2064 | Train Acc: 0.2450\n",
      "Val Loss: 2.2085 | Val Acc: 0.2260\n",
      "Val F1: 0.2071\n",
      "Epoch 6/10\n"
     ]
    },
    {
     "name": "stderr",
     "output_type": "stream",
     "text": [
      "100%|██████████| 62/62 [00:17<00:00,  3.47it/s]\n"
     ]
    },
    {
     "name": "stdout",
     "output_type": "stream",
     "text": [
      "learning_rate: 0.01\n",
      "Train Loss: 2.1692 | Train Acc: 0.2792\n",
      "Val Loss: 2.1721 | Val Acc: 0.2458\n",
      "Val F1: 0.2410\n",
      "Epoch 7/10\n"
     ]
    },
    {
     "name": "stderr",
     "output_type": "stream",
     "text": [
      "100%|██████████| 62/62 [00:18<00:00,  3.36it/s]\n"
     ]
    },
    {
     "name": "stdout",
     "output_type": "stream",
     "text": [
      "learning_rate: 0.01\n",
      "Train Loss: 2.1175 | Train Acc: 0.3080\n",
      "Val Loss: 2.1257 | Val Acc: 0.2740\n",
      "Val F1: 0.2694\n",
      "Epoch 8/10\n"
     ]
    },
    {
     "name": "stderr",
     "output_type": "stream",
     "text": [
      "100%|██████████| 62/62 [00:17<00:00,  3.56it/s]\n"
     ]
    },
    {
     "name": "stdout",
     "output_type": "stream",
     "text": [
      "learning_rate: 0.01\n",
      "Train Loss: 2.0520 | Train Acc: 0.3281\n",
      "Val Loss: 2.0642 | Val Acc: 0.2966\n",
      "Val F1: 0.2877\n",
      "Epoch 9/10\n"
     ]
    },
    {
     "name": "stderr",
     "output_type": "stream",
     "text": [
      "100%|██████████| 62/62 [00:17<00:00,  3.55it/s]\n"
     ]
    },
    {
     "name": "stdout",
     "output_type": "stream",
     "text": [
      "learning_rate: 0.01\n",
      "Train Loss: 1.9760 | Train Acc: 0.3589\n",
      "Val Loss: 1.9999 | Val Acc: 0.3192\n",
      "Val F1: 0.3180\n",
      "Epoch 10/10\n"
     ]
    },
    {
     "name": "stderr",
     "output_type": "stream",
     "text": [
      "100%|██████████| 62/62 [00:17<00:00,  3.53it/s]\n"
     ]
    },
    {
     "name": "stdout",
     "output_type": "stream",
     "text": [
      "learning_rate: 0.01\n",
      "Train Loss: 1.9038 | Train Acc: 0.3700\n",
      "Val Loss: 1.9595 | Val Acc: 0.3446\n",
      "Val F1: 0.3440\n"
     ]
    }
   ],
   "source": [
    "history = train(model, X_train, y_train, X_val, y_val, learning_rate=0.01, epochs=10, batch_size=32)"
   ]
  },
  {
   "cell_type": "code",
   "execution_count": 188,
   "metadata": {},
   "outputs": [
    {
     "data": {
      "text/plain": [
       "0.3440410651860205"
      ]
     },
     "execution_count": 188,
     "metadata": {},
     "output_type": "execute_result"
    }
   ],
   "source": [
    "from sklearn.metrics import f1_score\n",
    "y_pred = X_val\n",
    "for layer in model:\n",
    "    y_pred = layer.forward(y_pred)\n",
    "y_pred = np.argmax(y_pred, axis=1)\n",
    "y_true = np.argmax(y_val, axis=1)\n",
    "f1_score(y_true, y_pred, average='macro')"
   ]
  },
  {
   "attachments": {},
   "cell_type": "markdown",
   "metadata": {},
   "source": [
    "View `loss` and `accuracy`"
   ]
  },
  {
   "cell_type": "code",
   "execution_count": 51,
   "metadata": {},
   "outputs": [
    {
     "data": {
      "image/png": "[encoded data removed]",
      "text/plain": [
       "<Figure size 1000x1000 with 2 Axes>"
      ]
     },
     "metadata": {},
     "output_type": "display_data"
    }
   ],
   "source": [
    "# plt.plot(history[0], label='train loss')\n",
    "# plt.plot(history[2], label='validation loss')\n",
    "# plt.xlabel('Epoch')\n",
    "# plt.ylabel('Loss')\n",
    "# plt.legend()\n",
    "# plt.show()\n",
    "\n",
    "# # show train, validation accuracy\n",
    "# plt.plot(history[1], label='train accuracy')\n",
    "# plt.plot(history[3], label='validation accuracy')\n",
    "# plt.xlabel('Epoch')\n",
    "# plt.ylabel('Accuracy')\n",
    "# plt.legend()\n",
    "# plt.show()\n",
    "\n",
    "# confusion matrix\n",
    "from sklearn.metrics import confusion_matrix\n",
    "import seaborn as sns\n",
    "cm = confusion_matrix(labels, out)\n",
    "plt.figure(figsize=(10, 10))\n",
    "sns.heatmap(cm, annot=True, fmt='d')\n",
    "plt.title('Confusion matrix')\n",
    "plt.ylabel('Actual label')\n",
    "plt.xlabel('Predicted label')\n",
    "plt.show()"
   ]
  },
  {
   "attachments": {},
   "cell_type": "markdown",
   "metadata": {},
   "source": [
    "## Save Model and params"
   ]
  },
  {
   "cell_type": "code",
   "execution_count": 33,
   "metadata": {},
   "outputs": [],
   "source": [
    "import pickle"
   ]
  },
  {
   "attachments": {},
   "cell_type": "markdown",
   "metadata": {},
   "source": [
    "### Save only model weights and bias"
   ]
  },
  {
   "cell_type": "code",
   "execution_count": 77,
   "metadata": {},
   "outputs": [],
   "source": [
    "\n",
    "model_weights_biases = []\n",
    "for layer in model:\n",
    "    if hasattr(layer, 'weights'):\n",
    "        model_weights_biases.append(layer.weights)\n",
    "        model_weights_biases.append(layer.biases)\n",
    "\n",
    "with open('model_weights_biases_92val.pkl', 'wb') as f:\n",
    "    pickle.dump(model_weights_biases, f)"
   ]
  },
  {
   "attachments": {},
   "cell_type": "markdown",
   "metadata": {},
   "source": [
    "### Load Model weights and biases"
   ]
  },
  {
   "cell_type": "code",
   "execution_count": 44,
   "metadata": {},
   "outputs": [],
   "source": [
    "# load model weights and bias\n",
    "with open('model_weights_biases_88tst.pkl', 'rb') as f:\n",
    "    model_weights_biases = pickle.load(f)\n",
    "\n",
    "# len(model_weights)\n",
    "# set model weights and bias\n",
    "i = 0\n",
    "for layer in model:\n",
    "    if hasattr(layer, 'weights'):\n",
    "        # print(layer)\n",
    "        layer.weights = model_weights_biases[i * 2]\n",
    "        layer.biases = model_weights_biases[i * 2 + 1]\n",
    "        i += 1"
   ]
  },
  {
   "attachments": {},
   "cell_type": "markdown",
   "metadata": {},
   "source": [
    "Check if model is same"
   ]
  },
  {
   "cell_type": "code",
   "execution_count": 45,
   "metadata": {},
   "outputs": [
    {
     "data": {
      "text/plain": [
       "0.9182105157016147"
      ]
     },
     "execution_count": 45,
     "metadata": {},
     "output_type": "execute_result"
    }
   ],
   "source": [
    "from sklearn.metrics import f1_score\n",
    "y_pred = X_val\n",
    "for layer in model:\n",
    "    y_pred = layer.forward(y_pred)\n",
    "y_pred = np.argmax(y_pred, axis=1)\n",
    "y_true = np.argmax(y_val, axis=1)\n",
    "f1_score(y_true, y_pred, average='macro')"
   ]
  },
  {
   "cell_type": "code",
   "execution_count": 46,
   "metadata": {},
   "outputs": [
    {
     "data": {
      "text/plain": [
       "0.9182446648632402"
      ]
     },
     "execution_count": 46,
     "metadata": {},
     "output_type": "execute_result"
    }
   ],
   "source": [
    "accuracy_score(y_true, y_pred)"
   ]
  },
  {
   "cell_type": "code",
   "execution_count": 47,
   "metadata": {},
   "outputs": [],
   "source": [
    "# save model\n",
    "import pickle\n",
    "with open('model_88tst.pkl', 'wb') as f:\n",
    "    pickle.dump(model, f)"
   ]
  },
  {
   "cell_type": "code",
   "execution_count": 60,
   "metadata": {},
   "outputs": [],
   "source": [
    "with open('model_88tst.pkl', 'rb') as f:\n",
    "    model = pickle.load(f)"
   ]
  },
  {
   "attachments": {},
   "cell_type": "markdown",
   "metadata": {},
   "source": [
    "Test saved model"
   ]
  },
  {
   "cell_type": "code",
   "execution_count": 39,
   "metadata": {},
   "outputs": [],
   "source": [
    "# load test images\n",
    "def load_test_images(folder_path):\n",
    "    images = []\n",
    "    i = 0\n",
    "    for filename in sorted(os.listdir(folder_path)):\n",
    "        # load the image using OpenCV\n",
    "        try: \n",
    "            img = cv2.imread(os.path.join(folder_path, filename))\n",
    "            # compress image pixels\n",
    "            \n",
    "            img = cv2.resize(img, (28, 28))\n",
    "            # convert the image from BGR to RGB format\n",
    "            img = cv2.cvtColor(img, cv2.COLOR_BGR2RGB)\n",
    "            # convert the image to a NumPy array of shape (channel, height, width)\n",
    "            img = (255 - np.transpose(img, (2, 0, 1))) / 255\n",
    "            # img = cv2.dilate(img, np.ones((2, 2), np.uint8))\n",
    "            images.append(img)\n",
    "            i+=1\n",
    "            if i == 100000:\n",
    "                break\n",
    "        except:\n",
    "            print(filename)\n",
    "    return np.array(images)\n"
   ]
  },
  {
   "cell_type": "code",
   "execution_count": 40,
   "metadata": {},
   "outputs": [],
   "source": [
    "def load_labels(filepath):\n",
    "    labels = np.loadtxt(filepath, delimiter=',', skiprows=1, usecols=2, max_rows=100000, dtype=int)\n",
    "    return labels"
   ]
  },
  {
   "cell_type": "code",
   "execution_count": 41,
   "metadata": {},
   "outputs": [
    {
     "name": "stdout",
     "output_type": "stream",
     "text": [
      "Number of test images: 10908\n",
      "Number of labels: 10908\n"
     ]
    }
   ],
   "source": [
    "# get test data\n",
    "test_images = load_test_images('data/training-d/')\n",
    "labels = load_labels('data/training-d.csv')\n",
    "print(f'Number of test images: {len(test_images)}')\n",
    "print(f'Number of labels: {len(labels)}')"
   ]
  },
  {
   "cell_type": "code",
   "execution_count": 48,
   "metadata": {},
   "outputs": [
    {
     "data": {
      "image/png": "[encoded data removed]",
      "text/plain": [
       "<Figure size 640x480 with 1 Axes>"
      ]
     },
     "metadata": {},
     "output_type": "display_data"
    },
    {
     "name": "stdout",
     "output_type": "stream",
     "text": [
      "1\n"
     ]
    }
   ],
   "source": [
    "# view an image\n",
    "plt.imshow(np.transpose(test_images[0], (1, 2, 0)))\n",
    "plt.show()\n",
    "print(labels[0])"
   ]
  },
  {
   "attachments": {},
   "cell_type": "markdown",
   "metadata": {},
   "source": [
    "### Inference"
   ]
  },
  {
   "cell_type": "code",
   "execution_count": 49,
   "metadata": {},
   "outputs": [
    {
     "name": "stdout",
     "output_type": "stream",
     "text": [
      "Accuracy: 0.8816\n",
      "F1 Score: 0.8808\n"
     ]
    }
   ],
   "source": [
    "from sklearn.metrics import accuracy_score, f1_score\n",
    "out = test_images\n",
    "for layer in model:\n",
    "    out = layer.forward(out)\n",
    "\n",
    "# get predicted labels\n",
    "out = np.argmax(out, axis=1)\n",
    "labels = np.array(labels)\n",
    "accuracy = accuracy_score(labels, out)\n",
    "f1_score = f1_score(labels, out, average='macro')\n",
    "# # view predicted labels\n",
    "\n",
    "print(f'Accuracy: {accuracy:.4f}')\n",
    "print(f'F1 Score: {f1_score:.4f}')"
   ]
  }
 ],
 "metadata": {
  "kernelspec": {
   "display_name": "Python 3",
   "language": "python",
   "name": "python3"
  },
  "language_info": {
   "codemirror_mode": {
    "name": "ipython",
    "version": 3
   },
   "file_extension": ".py",
   "mimetype": "text/x-python",
   "name": "python",
   "nbconvert_exporter": "python",
   "pygments_lexer": "ipython3",
   "version": "3.10.2"
  },
  "orig_nbformat": 4,
  "vscode": {
   "interpreter": {
    "hash": "df95319d8ce4e1d89f5365ae10992bc1f65da593082b1d264e8f529830ec2f02"
   }
  }
 },
 "nbformat": 4,
 "nbformat_minor": 2
}
